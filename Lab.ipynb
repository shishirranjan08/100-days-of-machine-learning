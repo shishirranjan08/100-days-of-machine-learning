{
  "nbformat": 4,
  "nbformat_minor": 0,
  "metadata": {
    "colab": {
      "provenance": [],
      "authorship_tag": "ABX9TyPJsWnavZWCv0XfUWjR4BPK",
      "include_colab_link": true
    },
    "kernelspec": {
      "name": "python3",
      "display_name": "Python 3"
    },
    "language_info": {
      "name": "python"
    }
  },
  "cells": [
    {
      "cell_type": "markdown",
      "metadata": {
        "id": "view-in-github",
        "colab_type": "text"
      },
      "source": [
        "<a href=\"https://colab.research.google.com/github/shishirranjan08/100-days-of-machine-learning/blob/main/Lab.ipynb\" target=\"_parent\"><img src=\"https://colab.research.google.com/assets/colab-badge.svg\" alt=\"Open In Colab\"/></a>"
      ]
    },
    {
      "cell_type": "code",
      "execution_count": null,
      "metadata": {
        "colab": {
          "base_uri": "https://localhost:8080/"
        },
        "id": "_dC42hzD9pSY",
        "outputId": "6f07352a-86a7-4ca8-9b02-23c0aec28884"
      },
      "outputs": [
        {
          "output_type": "stream",
          "name": "stdout",
          "text": [
            "shishir\n"
          ]
        }
      ],
      "source": [
        "print(\"shishir\")"
      ]
    },
    {
      "cell_type": "code",
      "source": [
        "print(\"Hello\" , \"world\" ,sep='--',end =' \\t')\n",
        "print(\"shishir\")"
      ],
      "metadata": {
        "colab": {
          "base_uri": "https://localhost:8080/"
        },
        "id": "GDHGvTFFdpNj",
        "outputId": "372ff726-f4c7-4dc4-e5be-1226c547b65d"
      },
      "execution_count": null,
      "outputs": [
        {
          "output_type": "stream",
          "name": "stdout",
          "text": [
            "Hello--world \tshishir\n"
          ]
        }
      ]
    },
    {
      "cell_type": "code",
      "source": [
        "k=None"
      ],
      "metadata": {
        "id": "CrL9Ep8Rh6gF"
      },
      "execution_count": null,
      "outputs": []
    },
    {
      "cell_type": "code",
      "source": [],
      "metadata": {
        "id": "l8fAgGCN7gfD"
      },
      "execution_count": null,
      "outputs": []
    }
  ]
}